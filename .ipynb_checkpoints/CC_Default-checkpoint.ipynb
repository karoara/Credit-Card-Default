{
 "cells": [
  {
   "cell_type": "markdown",
   "metadata": {
    "colab_type": "text",
    "id": "bZqSkk-IaSUp"
   },
   "source": [
    "# Predicting Credit Card Defaulting with Logistic Regression / a Neural Network"
   ]
  },
  {
   "cell_type": "markdown",
   "metadata": {
    "colab_type": "text",
    "id": "jSjH4V6cbyP6"
   },
   "source": [
    "Implementation of logistic regression/neural network for predicting whether or not someone defaults on their credit card payment (a binary classification task)."
   ]
  },
  {
   "cell_type": "markdown",
   "metadata": {
    "colab_type": "text",
    "id": "z7UskOIcgWCD"
   },
   "source": [
    "### Install/import required libraries"
   ]
  },
  {
   "cell_type": "code",
   "execution_count": 33,
   "metadata": {
    "colab": {
     "base_uri": "https://localhost:8080/",
     "height": 34
    },
    "colab_type": "code",
    "collapsed": true,
    "id": "_B2LgqhaZFAY",
    "outputId": "7da380a8-4131-4a9e-8628-530aa3b4c463"
   },
   "outputs": [],
   "source": [
    "# matplotlib.pyplot for plotting graphs, pandas for importing data, numpy for storing data & manually training models,\n",
    "# keras for training models\n",
    "import matplotlib.pyplot as plt\n",
    "import numpy as np\n",
    "import pandas as pd\n",
    "import keras\n",
    "from keras.models import Sequential\n",
    "from keras.layers import Dense, Dropout, Activation, Flatten, Input\n",
    "from keras.layers import Conv1D, MaxPooling1D\n",
    "from keras.optimizers import Adam\n",
    "from keras.optimizers import SGD"
   ]
  },
  {
   "cell_type": "markdown",
   "metadata": {
    "colab_type": "text",
    "id": "E8aSyx9DhESS"
   },
   "source": [
    "### Load and Fix Up Data\n",
    "\n",
    "In this function we:\n",
    "* load the data into an array (from a pandas dataframe)\n",
    "* filter out invalid entries\n",
    "* remove the first column (id number)"
   ]
  },
  {
   "cell_type": "code",
   "execution_count": 34,
   "metadata": {
    "colab": {},
    "colab_type": "code",
    "collapsed": true,
    "id": "ice_yIbIakdD"
   },
   "outputs": [],
   "source": [
    "# function that loads data, removes 1st column, invalid entries\n",
    "def get_data():\n",
    "  \n",
    "  # get data into dataframe\n",
    "  dataframe = pd.read_excel(io='default of credit card clients.xls', header=1)\n",
    "  \n",
    "  # turn dataframe into array\n",
    "  data_array = pd.DataFrame.as_matrix(dataframe)\n",
    "  \n",
    "  # use list to filter out entries with invalid values for sex, education, or marriage\n",
    "  data_list = []\n",
    "  for i in range(data_array.shape[0]):\n",
    "    if (data_array[i,2] in [1,2]) and (data_array[i,3] in [1,2,3,4]) and (data_array[i,4] in [1,2,3]): \n",
    "          data_list.append(data_array[i])\n",
    "  \n",
    "  # reset data array to only have correct entries\n",
    "  data_array = np.asarray(data_list)\n",
    "  \n",
    "  # remove first column\n",
    "  data_array = data_array[:,1:]\n",
    "  \n",
    "  return data_array"
   ]
  },
  {
   "cell_type": "markdown",
   "metadata": {
    "colab_type": "text",
    "id": "6f_80L-xmnLo"
   },
   "source": [
    "### Preprocessing the Data for Non-Tree Based Models\n",
    "\n",
    "* If we're doing logistic regression/using a neural network, categorical data needs to be one-hot encoded. Fields for which we must use a one-hot encoding are:\n",
    "  * sex - this is 1 or 2. 1 will become [1, 0], 2 will become [0, 1].\n",
    "  * education - this is 1, 2, 3, or 4. 1 will become [1, 0, 0, 0], 2 will become [0, 1, 0, 0], and so on.\n",
    "  * marriage - this is 1, 2, or 3 - it is one-hot encoded in the same way as sex and education."
   ]
  },
  {
   "cell_type": "code",
   "execution_count": 35,
   "metadata": {
    "colab": {},
    "colab_type": "code",
    "collapsed": true,
    "id": "AT3kus9Mbocv"
   },
   "outputs": [],
   "source": [
    "# function that preprocesses the data for non-tree based models\n",
    "def preprocess_for_LR_or_NN(data):\n",
    "  \n",
    "  # Get data for sex, education and marriage into separate numpy arrays:\n",
    "  sex = data[:,1] \n",
    "  education = data[:,2] \n",
    "  marriage = data[:,3] \n",
    "  \n",
    "  # Convert data into one-hot form for each\n",
    "  sex_onehot = np.zeros((data.shape[0], 2))\n",
    "  education_onehot = np.zeros((data.shape[0], 4))\n",
    "  marriage_onehot = np.zeros((data.shape[0], 3))\n",
    "  for i in range(data.shape[0]):\n",
    "    sex_onehot[i, data[i,1]-1] = 1\n",
    "    education_onehot[i, data[i,2]-1] = 1\n",
    "    marriage_onehot[i, data[i,3]-1] = 1\n",
    "  \n",
    "  # set up new data with one-hot encoding features:\n",
    "  one_hot_data = np.zeros((data.shape[0], 30))\n",
    "  one_hot_data[:,0] = data[:,0] # id and limit balance stay as they were\n",
    "  one_hot_data[:,1:3] = sex_onehot\n",
    "  one_hot_data[:,3:7] = education_onehot\n",
    "  one_hot_data[:,7:10] = marriage_onehot\n",
    "  one_hot_data[:,10:30] = data[:,4:24] # remaining features stay as they were\n",
    "  \n",
    "  return one_hot_data"
   ]
  },
  {
   "cell_type": "markdown",
   "metadata": {
    "colab_type": "text",
    "id": "LcUW2lWO4O1g"
   },
   "source": [
    "### Augmenting the Data\n",
    "There are lots of data for label 0 (non-default) but not as much for label 1 (default). In this function, we duplicate data for label 1 until there are roughly as many datapoints for each label."
   ]
  },
  {
   "cell_type": "code",
   "execution_count": 36,
   "metadata": {
    "colab": {},
    "colab_type": "code",
    "collapsed": true,
    "id": "j67Fz7iW4rwR"
   },
   "outputs": [],
   "source": [
    "# function that augments default data (data with label 1)\n",
    "def augment_default_data(data):\n",
    "  \n",
    "  # get the default, non-default data separately\n",
    "  def_data = np.asarray([row for row in data if row[data.shape[1]-1]==1])\n",
    "  non_def_data = np.asarray([row for row in data if row[data.shape[1]-1]==0])\n",
    "  \n",
    "  # get roughly how many times more non-default data there is than default data\n",
    "  times_more = np.round((len(non_def_data)/len(def_data)), decimals=1)\n",
    "  \n",
    "  # duplicate default data, put it together until we have enough\n",
    "  augmented_def_data = np.tile(def_data, (int(times_more),1))\n",
    "  random_xtra = np.random.permutation(len(def_data))[:(int(len(def_data)*(times_more-int(times_more))))]\n",
    "  augmented_def_data = np.concatenate((augmented_def_data, augmented_def_data[random_xtra]), axis=0)\n",
    "  \n",
    "  # put the data back together into a single array\n",
    "  augmented_data = np.concatenate((augmented_def_data, non_def_data), axis=0)\n",
    "  \n",
    "  return augmented_data"
   ]
  },
  {
   "cell_type": "markdown",
   "metadata": {
    "colab_type": "text",
    "id": "ppirmgazOfvt"
   },
   "source": [
    "### Train-Test/Train-Validation-Test Split\n",
    "\n",
    "Here we split the data 2 or 3 ways, and separate features and labels into different arrays."
   ]
  },
  {
   "cell_type": "code",
   "execution_count": 37,
   "metadata": {
    "colab": {},
    "colab_type": "code",
    "collapsed": true,
    "id": "iWmk5EAbPZD2"
   },
   "outputs": [],
   "source": [
    "# function to split the data 2 or 3 ways, and separate out features and labels\n",
    "def data_split(data, split):\n",
    "  \n",
    "  # if splitting 2 ways\n",
    "  if len(split) == 2:\n",
    "    \n",
    "    # get random train-test split according to ratio specified\n",
    "    rand_ordering = np.random.permutation(data.shape[0])\n",
    "    num_train = int((split[0]/100) * data.shape[0])\n",
    "    num_test = int((split[1]/100) * data.shape[0])\n",
    "    \n",
    "    # split up the data\n",
    "    x_train = data[rand_ordering[:num_train],:(data.shape[1]-1)]\n",
    "    y_train = data[rand_ordering[:num_train],(data.shape[1]-1)]\n",
    "    x_test = data[rand_ordering[num_train:],:(data.shape[1]-1)]\n",
    "    y_test = data[rand_ordering[num_train:],(data.shape[1]-1)]\n",
    "    \n",
    "    return x_train, y_train, x_test, y_test\n",
    "  \n",
    "  # if splitting 3 ways\n",
    "  else:\n",
    "    \n",
    "    # get random train-validation-test split according to ratio specified\n",
    "    rand_ordering = np.random.permutation(data.shape[0])\n",
    "    num_train = int((split[0]/100) * data.shape[0])\n",
    "    num_validation = int((split[1]/100) * data.shape[0])\n",
    "    n_test = int((split[2]/100) * data.shape[0])\n",
    "    \n",
    "    # split up the data\n",
    "    x_train = data[rand_ordering[:num_train],:(data.shape[1]-1)]\n",
    "    y_train = data[rand_ordering[:num_train],(data.shape[1]-1)]\n",
    "    x_validation = data[rand_ordering[num_train:(num_train+num_validation)],:(data.shape[1]-1)]\n",
    "    y_validation = data[rand_ordering[num_train:(num_train+num_validation)],(data.shape[1]-1)]\n",
    "    x_test = data[rand_ordering[(num_train+num_validation):],:(data.shape[1]-1)]\n",
    "    y_test = data[rand_ordering[(num_train+num_validation):],(data.shape[1]-1)]\n",
    "    \n",
    "    return x_train, y_train, x_validation, y_validation, x_test, y_test"
   ]
  },
  {
   "cell_type": "markdown",
   "metadata": {
    "colab_type": "text",
    "id": "QxdjfAbIOUjA"
   },
   "source": [
    "### Preprocessing the Training Data (Normalizing)\n",
    "\n",
    "If we're doing logistic regression/using a neural network, we need to normalize our training data. Normalization is making sure all the features in the input vectors (rows of data) that will go into our model have a similar scale. Without going into much detail, the updates produced by gradient descent for model parameters are very sensitive to the scale of the input features the parameters are applied to - if the features have very different scales, it is harder for parameters to converge. Thus normalizing makes it easier to train logistic regression/neural networks in practice. Only in the case of decision trees does the scale of features not matter."
   ]
  },
  {
   "cell_type": "code",
   "execution_count": 38,
   "metadata": {
    "colab": {},
    "colab_type": "code",
    "collapsed": true,
    "id": "UaCKnpCSc1K2"
   },
   "outputs": [],
   "source": [
    "# function takes training & test features, scales both using the mean & standard deviation of the training features\n",
    "def normalize(x_train, x_test):\n",
    "  \n",
    "  # get the mean and standard deviation for every feature in the training data\n",
    "  x_train_mean = np.mean(x_train, axis=0)\n",
    "  x_train_stdev = np.std(x_train, axis=0)\n",
    "  \n",
    "  # normalize/standardize the data by subtracting mean, dividing by standard deviation for every feature in the training data\n",
    "  x_train_scaled = (x_train - x_train_mean)/x_train_stdev\n",
    "  \n",
    "  # we map the test data into the same domain as the training data\n",
    "  x_test_scaled = (x_test - x_train_mean)/x_train_stdev\n",
    "  \n",
    "  return x_train_scaled, x_test_scaled"
   ]
  },
  {
   "cell_type": "markdown",
   "metadata": {
    "colab_type": "text",
    "id": "uE4jqiSCu3PR"
   },
   "source": [
    "### Numpy Implementation of Logistic Regression\n",
    "\n",
    "Logistic regression is equiv. to a neural network with an input of 29 neurons (one for each feature in the input vectors) that feeds into a single output neuron. \n",
    "\n",
    "The following function manually implements logistic regression - it builds the model, trains it for the specified number of epochs (and with the specified learning rate), and reports back error on the training and test sets. "
   ]
  },
  {
   "cell_type": "code",
   "execution_count": 39,
   "metadata": {
    "colab": {},
    "colab_type": "code",
    "collapsed": true,
    "id": "x76uoHE-al7h"
   },
   "outputs": [],
   "source": [
    "# function that manually implements logistic regression\n",
    "def numpy_logistic_regression(x_train, y_train, x_test, y_test, num_epochs, learning_rate):\n",
    "  \n",
    "  # set up logistic regression parameters - a single weight vector (one weight for each feature) & a bias term\n",
    "  weights = 0.1 * np.random.randn(x_train.shape[1])\n",
    "  bias = 0.1 * np.random.randn(1)\n",
    "  \n",
    "  # keep track of mean squared errors, classification errors on the training & test data while training\n",
    "  train_mses = np.zeros((num_epochs, x_train.shape[0]))\n",
    "  train_errors = np.zeros((num_epochs, x_train.shape[0]))\n",
    "  test_error_per_epoch = np.zeros(num_epochs)\n",
    "  \n",
    "  # train the model using SGD (this loop is essentially a \"model.fit\" type call)\n",
    "  for epoch in range(num_epochs):\n",
    "    \n",
    "    for trial in range(x_train.shape[0]):\n",
    "      \n",
    "      # get the input features, output label for the current entry\n",
    "      curr_input = x_train[trial]\n",
    "      curr_label = y_train[trial]\n",
    "      \n",
    "      # calculate the model's prediction\n",
    "      weighted_biased_input = weights.dot(curr_input) + bias # w*x + b\n",
    "      prediction = 1/(1 + np.exp(-weighted_biased_input)) # sigmoid applied to (w*x + b)\n",
    "      \n",
    "      # compute mean squared error & classification error for model prediction, save them\n",
    "      mse = np.square(prediction - curr_label)\n",
    "      train_mses[epoch, trial] = mse\n",
    "      if np.round(prediction, decimals=0) != curr_label: train_errors[epoch, trial] = 1\n",
    "      \n",
    "      # adjust model parameters based on the model's prediction error\n",
    "      prediction_error = 2 * (prediction - curr_label)\n",
    "      weighted_biased_input_error = prediction * (1 - prediction)\n",
    "      \n",
    "      weights_error = prediction_error * weighted_biased_input_error * curr_input\n",
    "      bias_error = prediction_error * weighted_biased_input_error\n",
    "      \n",
    "      weights -= learning_rate * weights_error\n",
    "      bias -= learning_rate * bias_error\n",
    "    \n",
    "    # compute classification error on test set for current epoch\n",
    "    test_predictions = np.round((1/(1 + np.exp(-(weights.dot(x_test.transpose()) + bias)))), decimals=0)\n",
    "    test_error = (len([pred for pred, actual in zip(test_predictions, y_test) if pred!=actual])/len(y_test))\n",
    "    test_error_per_epoch[epoch] = test_error\n",
    "  \n",
    "  # compute mse on the training set for each epoch\n",
    "  train_mse_per_epoch = np.mean(train_mses, axis=1)\n",
    "  \n",
    "  # compute classification error on the training set for each epoch\n",
    "  train_error_per_epoch = np.mean(train_errors, axis=1)\n",
    "  \n",
    "  return train_mse_per_epoch, train_error_per_epoch, test_error_per_epoch"
   ]
  },
  {
   "cell_type": "markdown",
   "metadata": {
    "colab_type": "text",
    "id": "fVBoaHcrFkPO"
   },
   "source": [
    "### Numpy Implementation of a Neural Network\n",
    "\n",
    "The network has an input layer of 29 neurons, which feeds into a hidden layer of 29 neurons, which then feeds into an output of one neuron. \n",
    "\n",
    "The following function does the same thing for a neural network that the previous did for logistic regression."
   ]
  },
  {
   "cell_type": "code",
   "execution_count": 40,
   "metadata": {
    "colab": {},
    "colab_type": "code",
    "collapsed": true,
    "id": "la0bmgxtFjPP"
   },
   "outputs": [],
   "source": [
    "# function that manually implements logistic regression\n",
    "def numpy_neural_network(x_train, y_train, x_test, y_test, num_epochs, learning_rate):\n",
    "  \n",
    "  # set up neural net parameters\n",
    "  weights_h = 0.1 * np.random.randn(x_train.shape[1], x_train.shape[1])\n",
    "  b_h = 0.1 * np.random.randn(x_train.shape[1])\n",
    "  weights_o = 0.1 * np.random.randn(x_train.shape[1])\n",
    "  b_o = 0.1 * np.random.randn(1)\n",
    "  \n",
    "  # keep track of mean squared errors, classification errors on the training & test data while training\n",
    "  train_mses = np.zeros((num_epochs, x_train.shape[0]))\n",
    "  train_errors = np.zeros((num_epochs, x_train.shape[0]))\n",
    "  test_error_per_epoch = np.zeros(num_epochs)\n",
    "  \n",
    "  # train the model using SGD (this loop is your call to \"model.fit\")\n",
    "  for epoch in range(num_epochs):\n",
    "    \n",
    "    for trial in range(x_train.shape[0]):\n",
    "      \n",
    "      # get the input features, output label for the current entry\n",
    "      curr_input = x_train[trial]\n",
    "      curr_label = y_train[trial]\n",
    "      \n",
    "      # compute prediction for current datapoint\n",
    "      hidden_preactivations = weights_h.dot(curr_input) + b_h\n",
    "      hidden_activations = 1/(1 + np.exp(-hidden_preactivations))\n",
    "      prediction_preactivation = weights_o.dot(hidden_activations) + b_o\n",
    "      prediction = 1/(1 + np.exp(-prediction_preactivation))\n",
    "      \n",
    "      # compute mean squared error & classification error for model prediction, save them\n",
    "      mse = np.square(prediction - curr_label)\n",
    "      train_mses[epoch, trial] = mse\n",
    "      if np.round(prediction, decimals=0) != curr_label: train_errors[epoch, trial] = 1\n",
    "      \n",
    "      # adjust model parameters based on the model's prediction error\n",
    "      prediction_error = 2 * (prediction - curr_label)\n",
    "      prediction_preactivation_error = prediction * (1 - prediction)\n",
    "      hidden_activations_error = prediction_error * prediction_preactivation_error * weights_o\n",
    "      hidden_preactivations_error = hidden_activations * (1 - hidden_activations)\n",
    "      \n",
    "      weights_o_error = prediction_error * prediction_preactivation_error * hidden_activations\n",
    "      b_o_error = prediction_error * prediction_preactivation_error\n",
    "      weights_h_error = np.matmul(np.expand_dims((hidden_activations_error * hidden_preactivations_error), axis=1),\n",
    "                                  np.expand_dims(curr_input, axis=0))\n",
    "      b_h_error = hidden_activations_error * hidden_preactivations_error\n",
    "      \n",
    "      weights_o -= learning_rate * weights_o_error\n",
    "      b_o -= learning_rate * b_o_error\n",
    "      weights_h -= learning_rate * weights_h_error\n",
    "      b_h -= learning_rate * b_h_error\n",
    "    \n",
    "    # compute classification error on test set for current epoch\n",
    "    test_hidden_activations = np.round((1/(1 + np.exp(-(weights_h.dot(x_test.transpose()) + np.expand_dims(b_h, 1))))),\n",
    "                                       decimals=0)\n",
    "    test_predictions = np.round(1/(1 + np.exp(-(weights_o.dot(test_hidden_activations + b_o)))), decimals=0)\n",
    "    test_error = (len([pred for pred, actual in zip(test_predictions, y_test) if pred!=actual])/len(y_test))\n",
    "    test_error_per_epoch[epoch] = test_error\n",
    "  \n",
    "  # compute mse on the training set for each epoch\n",
    "  train_mse_per_epoch = np.mean(train_mses, axis=1)\n",
    "  \n",
    "  # compute classification error on the training set for each epoch\n",
    "  train_error_per_epoch = np.mean(train_errors, axis=1)\n",
    "  \n",
    "  return train_mse_per_epoch, train_error_per_epoch, test_error_per_epoch"
   ]
  },
  {
   "cell_type": "markdown",
   "metadata": {
    "colab_type": "text",
    "id": "TzPWjLuD4wtX"
   },
   "source": [
    "### Keras Implementation of Models\n",
    "\n",
    "Simple implementation of Logistic Regression/a Neural Network using Keras - calls to Keras's API handle the creation of model parameters, model training, and saving model accuracy over time. "
   ]
  },
  {
   "cell_type": "code",
   "execution_count": 44,
   "metadata": {
    "collapsed": true
   },
   "outputs": [],
   "source": [
    "# function that creates and trains model in keras\n",
    "def keras_model(x_train, y_train, x_test, y_test, num_epochs, learning_rate, net):\n",
    "  \n",
    "  # model\n",
    "  model = Sequential()\n",
    "  if net == False:\n",
    "    model.add(Dense(output_dim=1, input_dim=x_train.shape[1], activation='sigmoid'))\n",
    "  else:\n",
    "    model.add(Dense(output_dim=x_train.shape[1], input_dim=x_train.shape[1], activation='sigmoid'))\n",
    "    model.add(Dense(output_dim=1, input_dim=x_train.shape[1], activation='sigmoid'))\n",
    "  \n",
    "  # optimizer, loss metric\n",
    "  optim = SGD(lr=learning_rate)\n",
    "  model.compile(loss='mean_squared_error', optimizer=optim, metrics=['accuracy'])\n",
    "  \n",
    "  # train\n",
    "  fit = model.fit(x=x_train, y=y_train, epochs=num_epochs, verbose=1, \n",
    "                  batch_size=128, validation_data=(x_test, y_test))\n",
    "  \n",
    "  return fit.history['acc'], fit.history['val_acc']"
   ]
  },
  {
   "cell_type": "markdown",
   "metadata": {},
   "source": [
    "### Plotting Results\n",
    "\n",
    "For plotting a model's accuracy over time."
   ]
  },
  {
   "cell_type": "code",
   "execution_count": 45,
   "metadata": {
    "collapsed": true
   },
   "outputs": [],
   "source": [
    "# function that plots train and test accuracy over epochs\n",
    "def plot_utility(train_history, test_history, model_type):\n",
    "  \n",
    "  plt.plot(train_history)\n",
    "  plt.plot(test_history)\n",
    "  plt.title(model_type + \" accuracy\")\n",
    "  plt.ylabel('accuracy')\n",
    "  plt.xlabel('epoch')\n",
    "  plt.legend(['train', 'test'], loc='upper left')\n",
    "  plt.show()"
   ]
  },
  {
   "cell_type": "markdown",
   "metadata": {
    "colab_type": "text",
    "id": "x_HjMV8v6ypl"
   },
   "source": [
    "### Putting Stuff Together\n",
    "\n",
    "Here we call all the above functions to get and preprocess the data, train models with it, and plot the results."
   ]
  },
  {
   "cell_type": "code",
   "execution_count": 47,
   "metadata": {
    "colab": {
     "base_uri": "https://localhost:8080/",
     "height": 9225
    },
    "colab_type": "code",
    "id": "6NIITHUi62yy",
    "outputId": "19a1ee86-5c14-4653-8210-179b28fe1f4a",
    "scrolled": false
   },
   "outputs": [
    {
     "name": "stdout",
     "output_type": "stream",
     "text": [
      "NUMPY IMPLEMENTATION OF LOGISTIC REGRESSION\n",
      "\n",
      "\n",
      "Average MSE on training set for every epoch (logistic regression): \n",
      "[ 0.21473314  0.20998181  0.20971026  0.20957545  0.20948817  0.20942523\n",
      "  0.20937662  0.20933741  0.20930484  0.20927727]\n",
      "\n",
      "\n",
      "Classfn accuracy on training set for every epoch (logistic regression): \n",
      "[ 0.66576308  0.68059095  0.68094335  0.68023855  0.68061805  0.68064516\n",
      "  0.68129574  0.68137707  0.68121442  0.68126864]\n",
      "\n",
      "\n",
      "Classfn accuracy on test set for every epoch (logistic regression): \n",
      "[ 0.67060609  0.67331671  0.67255774  0.67244931  0.67223246  0.67212404\n",
      "  0.67266616  0.67169034  0.67244931  0.67255774]\n",
      "\n",
      "\n"
     ]
    },
    {
     "data": {
      "image/png": "[encoded data removed]",
      "text/plain": [
       "<matplotlib.figure.Figure at 0x1822e45d68>"
      ]
     },
     "metadata": {},
     "output_type": "display_data"
    },
    {
     "name": "stdout",
     "output_type": "stream",
     "text": [
      "\n",
      "\n",
      "KERAS IMPLEMENTATION OF LOGISTIC REGRESSION\n",
      "\n",
      "\n"
     ]
    },
    {
     "name": "stderr",
     "output_type": "stream",
     "text": [
      "/Users/karan/anaconda3/lib/python3.6/site-packages/ipykernel_launcher.py:7: UserWarning: Update your `Dense` call to the Keras 2 API: `Dense(input_dim=29, activation=\"sigmoid\", units=1)`\n",
      "  import sys\n"
     ]
    },
    {
     "name": "stdout",
     "output_type": "stream",
     "text": [
      "Train on 36890 samples, validate on 9223 samples\n",
      "Epoch 1/10\n",
      "36890/36890 [==============================] - 1s 20us/step - loss: 0.2547 - acc: 0.5782 - val_loss: 0.2436 - val_acc: 0.5921\n",
      "Epoch 2/10\n",
      "36890/36890 [==============================] - 0s 9us/step - loss: 0.2335 - acc: 0.6179 - val_loss: 0.2324 - val_acc: 0.6144\n",
      "Epoch 3/10\n",
      "36890/36890 [==============================] - 0s 9us/step - loss: 0.2255 - acc: 0.6365 - val_loss: 0.2272 - val_acc: 0.6275\n",
      "Epoch 4/10\n",
      "36890/36890 [==============================] - 0s 8us/step - loss: 0.2214 - acc: 0.6477 - val_loss: 0.2241 - val_acc: 0.6368\n",
      "Epoch 5/10\n",
      "36890/36890 [==============================] - 0s 12us/step - loss: 0.2187 - acc: 0.6535 - val_loss: 0.2220 - val_acc: 0.6407\n",
      "Epoch 6/10\n",
      "36890/36890 [==============================] - 0s 9us/step - loss: 0.2169 - acc: 0.6579 - val_loss: 0.2204 - val_acc: 0.6443\n",
      "Epoch 7/10\n",
      "36890/36890 [==============================] - 0s 11us/step - loss: 0.2156 - acc: 0.6618 - val_loss: 0.2192 - val_acc: 0.6483\n",
      "Epoch 8/10\n",
      "36890/36890 [==============================] - 0s 10us/step - loss: 0.2146 - acc: 0.6645 - val_loss: 0.2183 - val_acc: 0.6497\n",
      "Epoch 9/10\n",
      "36890/36890 [==============================] - 0s 9us/step - loss: 0.2139 - acc: 0.6669 - val_loss: 0.2176 - val_acc: 0.6537\n",
      "Epoch 10/10\n",
      "36890/36890 [==============================] - 0s 9us/step - loss: 0.2133 - acc: 0.6686 - val_loss: 0.2171 - val_acc: 0.6553\n",
      "[0.57820547575160852, 0.61791813500885973, 0.63654106805950816, 0.64773651397658027, 0.65345622118199931, 0.6578747628051177, 0.66180536732760253, 0.6645432366430355, 0.66692870696019468, 0.66863648684634269]\n",
      "Classfn accuracy on training set for every epoch (logistic regression): \n",
      "[0.57820547575160852, 0.61791813500885973, 0.63654106805950816, 0.64773651397658027, 0.65345622118199931, 0.6578747628051177, 0.66180536732760253, 0.6645432366430355, 0.66692870696019468, 0.66863648684634269]\n",
      "\n",
      "\n",
      "Classfn accuracy on test set for every epoch (logistic regression): \n",
      "[0.59210668981017123, 0.61444215550025094, 0.62745310638391127, 0.63677762118386794, 0.64068090644896603, 0.64425891794197265, 0.6482706277913054, 0.64968014747036862, 0.65369185732616386, 0.65531822618662139]\n",
      "\n",
      "\n"
     ]
    },
    {
     "data": {
      "image/png": "[encoded data removed]",
      "text/plain": [
       "<matplotlib.figure.Figure at 0x18205a1e80>"
      ]
     },
     "metadata": {},
     "output_type": "display_data"
    },
    {
     "name": "stdout",
     "output_type": "stream",
     "text": [
      "\n",
      "\n",
      "NUMPY IMPLEMENTATION OF A 1-HIDDEN LAYER NEURAL NETWORK\n",
      "\n",
      "\n",
      "Average MSE on training set for every epoch (neural network): \n",
      "[ 0.23648434  0.21897519  0.21384346  0.21133504  0.20987258  0.20903066\n",
      "  0.20849847  0.20809186  0.2077206   0.20734286]\n",
      "\n",
      "\n",
      "Classfn accuracy on training set for every epoch (neural network): \n",
      "[ 0.6291678   0.65787476  0.66340472  0.66963947  0.67525075  0.67812415\n",
      "  0.6793711   0.68159393  0.68240716  0.6832746 ]\n",
      "\n",
      "\n",
      "Classfn accuracy on test set for every epoch (neural network): \n",
      "[ 0.64490947  0.65000542  0.65488453  0.66019733  0.66399219  0.66648596\n",
      "  0.66529329  0.66702808  0.66735336  0.6688713 ]\n",
      "\n",
      "\n"
     ]
    },
    {
     "data": {
      "image/png": "[encoded data removed]",
      "text/plain": [
       "<matplotlib.figure.Figure at 0x18241d0e48>"
      ]
     },
     "metadata": {},
     "output_type": "display_data"
    },
    {
     "name": "stdout",
     "output_type": "stream",
     "text": [
      "\n",
      "\n",
      "KERAS IMPLEMENTATION OF A 1-HIDDEN LAYER NEURAL NETWORK\n",
      "\n",
      "\n",
      "Train on 36890 samples, validate on 9223 samples"
     ]
    },
    {
     "name": "stderr",
     "output_type": "stream",
     "text": [
      "/Users/karan/anaconda3/lib/python3.6/site-packages/ipykernel_launcher.py:9: UserWarning: Update your `Dense` call to the Keras 2 API: `Dense(input_dim=29, activation=\"sigmoid\", units=29)`\n",
      "  if __name__ == '__main__':\n",
      "/Users/karan/anaconda3/lib/python3.6/site-packages/ipykernel_launcher.py:10: UserWarning: Update your `Dense` call to the Keras 2 API: `Dense(input_dim=29, activation=\"sigmoid\", units=1)`\n",
      "  # Remove the CWD from sys.path while we load stuff.\n"
     ]
    },
    {
     "name": "stdout",
     "output_type": "stream",
     "text": [
      "\n",
      "Epoch 1/10\n",
      "36890/36890 [==============================] - 1s 15us/step - loss: 0.2487 - acc: 0.5392 - val_loss: 0.2433 - val_acc: 0.5788\n",
      "Epoch 2/10\n",
      "36890/36890 [==============================] - 0s 9us/step - loss: 0.2397 - acc: 0.5948 - val_loss: 0.2368 - val_acc: 0.6075\n",
      "Epoch 3/10\n",
      "36890/36890 [==============================] - 0s 9us/step - loss: 0.2338 - acc: 0.6210 - val_loss: 0.2322 - val_acc: 0.6246\n",
      "Epoch 4/10\n",
      "36890/36890 [==============================] - 0s 9us/step - loss: 0.2297 - acc: 0.6381 - val_loss: 0.2289 - val_acc: 0.6342\n",
      "Epoch 5/10\n",
      "36890/36890 [==============================] - 0s 9us/step - loss: 0.2267 - acc: 0.6448 - val_loss: 0.2265 - val_acc: 0.6399\n",
      "Epoch 6/10\n",
      "36890/36890 [==============================] - 0s 9us/step - loss: 0.2243 - acc: 0.6493 - val_loss: 0.2247 - val_acc: 0.6421\n",
      "Epoch 7/10\n",
      "36890/36890 [==============================] - 0s 9us/step - loss: 0.2225 - acc: 0.6532 - val_loss: 0.2233 - val_acc: 0.6460\n",
      "Epoch 8/10\n",
      "36890/36890 [==============================] - 0s 9us/step - loss: 0.2210 - acc: 0.6545 - val_loss: 0.2221 - val_acc: 0.6475\n",
      "Epoch 9/10\n",
      "36890/36890 [==============================] - 0s 9us/step - loss: 0.2198 - acc: 0.6564 - val_loss: 0.2212 - val_acc: 0.6484\n",
      "Epoch 10/10\n",
      "36890/36890 [==============================] - 0s 9us/step - loss: 0.2188 - acc: 0.6572 - val_loss: 0.2203 - val_acc: 0.6479\n",
      "Classfn accuracy on training set for every epoch (neural network): \n",
      "[0.53917050691567392, 0.5947953374898346, 0.62103551097535348, 0.63808620223898205, 0.64480889128552898, 0.64930875577006308, 0.65315803741820622, 0.65451341825437659, 0.6563838438730506, 0.6572241800107359]\n",
      "\n",
      "\n",
      "Classfn accuracy on test set for every epoch (neural network): \n",
      "[0.57877046515441932, 0.60750298168916939, 0.62463406701285962, 0.63417543099421059, 0.63992193430116062, 0.64209042611510403, 0.64599371138020212, 0.6475116556499626, 0.64837905237553994, 0.64794535401275122]\n",
      "\n",
      "\n"
     ]
    },
    {
     "data": {
      "image/png": "[encoded data removed]",
      "text/plain": [
       "<matplotlib.figure.Figure at 0x1820ac6e80>"
      ]
     },
     "metadata": {},
     "output_type": "display_data"
    },
    {
     "name": "stdout",
     "output_type": "stream",
     "text": [
      "\n",
      "\n"
     ]
    }
   ],
   "source": [
    "# Prep the data ---------------------------------------------------------------------------------------------------\n",
    "\n",
    "data = get_data()\n",
    "data = preprocess_for_LR_or_NN(data)\n",
    "data = augment_default_data(data)\n",
    "x_train, y_train, x_test, y_test = data_split(data, [80, 20])\n",
    "x_train, x_test = normalize(x_train, x_test)\n",
    "\n",
    "\n",
    "# Train logistic regression with numpy ----------------------------------------------------------------------------\n",
    "\n",
    "print(\"NUMPY IMPLEMENTATION OF LOGISTIC REGRESSION\")\n",
    "print(\"\\n\")\n",
    "\n",
    "learning_rate = 0.001\n",
    "epochs = 10\n",
    "lr_train_mse_per_epoch, lr_train_error_per_epoch, lr_test_error_per_epoch = numpy_logistic_regression(x_train, \n",
    "                                                                                                      y_train,\n",
    "                                                                                                      x_test,\n",
    "                                                                                                      y_test,\n",
    "                                                                                                      epochs,\n",
    "                                                                                                      learning_rate)\n",
    "\n",
    "# print errors & accuracies\n",
    "print(\"Average MSE on training set for every epoch (logistic regression): \")\n",
    "print(lr_train_mse_per_epoch)\n",
    "print(\"\\n\")\n",
    "\n",
    "print(\"Classfn accuracy on training set for every epoch (logistic regression): \")\n",
    "print(1 - lr_train_error_per_epoch)\n",
    "print(\"\\n\")\n",
    "\n",
    "print(\"Classfn accuracy on test set for every epoch (logistic regression): \")\n",
    "print(1 - lr_test_error_per_epoch)\n",
    "print(\"\\n\")\n",
    "\n",
    "# plot training, test accuracy over time\n",
    "plot_utility(1 - lr_train_error_per_epoch, 1 - lr_test_error_per_epoch, \"logistic regression\")\n",
    "print(\"\\n\")\n",
    "\n",
    "\n",
    "# Train logistic regression with keras ----------------------------------------------------------------------------\n",
    "\n",
    "print(\"KERAS IMPLEMENTATION OF LOGISTIC REGRESSION\")\n",
    "print(\"\\n\")\n",
    "\n",
    "learning_rate = 0.01\n",
    "epochs = 10\n",
    "lr_train_acc_per_epoch, lr_test_acc_per_epoch = keras_model(x_train, \n",
    "                                                            y_train,\n",
    "                                                            x_test,\n",
    "                                                            y_test,\n",
    "                                                            epochs,\n",
    "                                                            learning_rate,\n",
    "                                                            net=False)\n",
    "\n",
    "print(lr_train_acc_per_epoch)\n",
    "\n",
    "# print errors & accuracies\n",
    "print(\"Classfn accuracy on training set for every epoch (logistic regression): \")\n",
    "print(lr_train_acc_per_epoch)\n",
    "print(\"\\n\")\n",
    "\n",
    "print(\"Classfn accuracy on test set for every epoch (logistic regression): \")\n",
    "print(lr_test_acc_per_epoch)\n",
    "print(\"\\n\")\n",
    "\n",
    "# plot training, test accuracy over time\n",
    "plot_utility(lr_train_acc_per_epoch, lr_test_acc_per_epoch, \"logistic regression\")\n",
    "print(\"\\n\")\n",
    "\n",
    "\n",
    "# Train a neural network with numpy -------------------------------------------------------------------------------\n",
    "\n",
    "print(\"NUMPY IMPLEMENTATION OF A 1-HIDDEN LAYER NEURAL NETWORK\")\n",
    "print(\"\\n\")\n",
    "\n",
    "learning_rate = 0.001\n",
    "epochs = 10\n",
    "nn_train_mse_per_epoch, nn_train_error_per_epoch, nn_test_error_per_epoch = numpy_neural_network(x_train, \n",
    "                                                                                                 y_train,\n",
    "                                                                                                 x_test,\n",
    "                                                                                                 y_test,\n",
    "                                                                                                 epochs,\n",
    "                                                                                                 learning_rate)\n",
    "\n",
    "\n",
    "# see errors & accuracies\n",
    "print(\"Average MSE on training set for every epoch (neural network): \")\n",
    "print(nn_train_mse_per_epoch)\n",
    "print(\"\\n\")\n",
    "\n",
    "print(\"Classfn accuracy on training set for every epoch (neural network): \")\n",
    "print(1 - nn_train_error_per_epoch)\n",
    "print(\"\\n\")\n",
    "\n",
    "print(\"Classfn accuracy on test set for every epoch (neural network): \")\n",
    "print(1 - nn_test_error_per_epoch)\n",
    "print(\"\\n\")\n",
    "\n",
    "# plot accuracy over time for neural network\n",
    "plot_utility(1 - nn_train_error_per_epoch, 1 - nn_test_error_per_epoch, \"neural network\")\n",
    "print(\"\\n\")\n",
    "\n",
    "\n",
    "# Train a neural network with keras -------------------------------------------------------------------------------\n",
    "\n",
    "print(\"KERAS IMPLEMENTATION OF A 1-HIDDEN LAYER NEURAL NETWORK\")\n",
    "print(\"\\n\")\n",
    "\n",
    "learning_rate = 0.01\n",
    "epochs = 10\n",
    "nn_train_acc_per_epoch, nn_test_acc_per_epoch = keras_model(x_train, \n",
    "                                                            y_train,\n",
    "                                                            x_test,\n",
    "                                                            y_test,\n",
    "                                                            epochs,\n",
    "                                                            learning_rate,\n",
    "                                                            net=True)\n",
    "\n",
    "# print errors & accuracies\n",
    "print(\"Classfn accuracy on training set for every epoch (neural network): \")\n",
    "print(nn_train_acc_per_epoch)\n",
    "print(\"\\n\")\n",
    "\n",
    "print(\"Classfn accuracy on test set for every epoch (neural network): \")\n",
    "print(nn_test_acc_per_epoch)\n",
    "print(\"\\n\")\n",
    "\n",
    "# plot training, test accuracy over time\n",
    "plot_utility(nn_train_acc_per_epoch, nn_test_acc_per_epoch, \"neural network\")\n",
    "print(\"\\n\")"
   ]
  },
  {
   "cell_type": "code",
   "execution_count": null,
   "metadata": {
    "collapsed": true
   },
   "outputs": [],
   "source": []
  }
 ],
 "metadata": {
  "colab": {
   "collapsed_sections": [],
   "name": "Credit Card Default - Logistic Regression/Neural Network.ipynb",
   "provenance": [],
   "version": "0.3.2"
  },
  "kernelspec": {
   "display_name": "Python 3",
   "language": "python",
   "name": "python3"
  },
  "language_info": {
   "codemirror_mode": {
    "name": "ipython",
    "version": 3
   },
   "file_extension": ".py",
   "mimetype": "text/x-python",
   "name": "python",
   "nbconvert_exporter": "python",
   "pygments_lexer": "ipython3",
   "version": "3.6.2"
  }
 },
 "nbformat": 4,
 "nbformat_minor": 1
}
